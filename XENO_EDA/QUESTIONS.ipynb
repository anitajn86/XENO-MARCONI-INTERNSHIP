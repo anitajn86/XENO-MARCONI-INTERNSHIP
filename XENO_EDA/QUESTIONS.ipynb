{
 "cells": [
  {
   "cell_type": "code",
   "execution_count": 9,
   "id": "40422238",
   "metadata": {},
   "outputs": [],
   "source": [
    "#importing the necessary libraries\n",
    "import json\n",
    "import pandas as pd\n",
    "import matplotlib.pyplot as plt\n",
    "import seaborn as sns"
   ]
  },
  {
   "cell_type": "code",
   "execution_count": 2,
   "id": "60e2fb6a",
   "metadata": {},
   "outputs": [],
   "source": [
    "#Loading the json file\n",
    "with open('XENO_kb.json') as f:\n",
    "    XENO_kb=json.load(f)"
   ]
  },
  {
   "cell_type": "code",
   "execution_count": 4,
   "id": "16e8148a",
   "metadata": {},
   "outputs": [
    {
     "data": {
      "text/html": [
       "<div>\n",
       "<style scoped>\n",
       "    .dataframe tbody tr th:only-of-type {\n",
       "        vertical-align: middle;\n",
       "    }\n",
       "\n",
       "    .dataframe tbody tr th {\n",
       "        vertical-align: top;\n",
       "    }\n",
       "\n",
       "    .dataframe thead th {\n",
       "        text-align: right;\n",
       "    }\n",
       "</style>\n",
       "<table border=\"1\" class=\"dataframe\">\n",
       "  <thead>\n",
       "    <tr style=\"text-align: right;\">\n",
       "      <th></th>\n",
       "      <th>id</th>\n",
       "      <th>question</th>\n",
       "      <th>source</th>\n",
       "      <th>owner</th>\n",
       "      <th>section</th>\n",
       "      <th>tag</th>\n",
       "      <th>content</th>\n",
       "    </tr>\n",
       "  </thead>\n",
       "  <tbody>\n",
       "    <tr>\n",
       "      <th>0</th>\n",
       "      <td>AD0001</td>\n",
       "      <td>How to remove withdraw lock</td>\n",
       "      <td>FAQs</td>\n",
       "      <td>Advisory</td>\n",
       "      <td>Building your financial discipline</td>\n",
       "      <td>Lock</td>\n",
       "      <td>1. Please send us an email at uganda@myxeno.co...</td>\n",
       "    </tr>\n",
       "    <tr>\n",
       "      <th>1</th>\n",
       "      <td>AD0002</td>\n",
       "      <td>How can I set up my XENO Autosave using my MoM...</td>\n",
       "      <td>FAQs</td>\n",
       "      <td>Advisory</td>\n",
       "      <td>Building your financial discipline</td>\n",
       "      <td>Autosave_MoMo</td>\n",
       "      <td>1. Please see how to automate your savings her...</td>\n",
       "    </tr>\n",
       "    <tr>\n",
       "      <th>2</th>\n",
       "      <td>AD0003</td>\n",
       "      <td>How can I set up my XENO Autosave using my web...</td>\n",
       "      <td>FAQs</td>\n",
       "      <td>Advisory</td>\n",
       "      <td>Building your financial discipline</td>\n",
       "      <td>Autosave_Web</td>\n",
       "      <td>1. Please login to your account using Login - ...</td>\n",
       "    </tr>\n",
       "    <tr>\n",
       "      <th>3</th>\n",
       "      <td>AD0004</td>\n",
       "      <td>How to I begin my investment journey?</td>\n",
       "      <td>FAQs</td>\n",
       "      <td>Advisory</td>\n",
       "      <td>Setting up my investment account</td>\n",
       "      <td>Goal-based investing</td>\n",
       "      <td>1. At XENO, we offer both investment advisory ...</td>\n",
       "    </tr>\n",
       "    <tr>\n",
       "      <th>4</th>\n",
       "      <td>AD0005</td>\n",
       "      <td>How is the interest for xeno calculated and wh...</td>\n",
       "      <td>FAQs</td>\n",
       "      <td>Advisory</td>\n",
       "      <td>Understanding the return on your XENO Investment</td>\n",
       "      <td>Returns</td>\n",
       "      <td>1. We specialize in creating customized portfo...</td>\n",
       "    </tr>\n",
       "    <tr>\n",
       "      <th>5</th>\n",
       "      <td>AD0006</td>\n",
       "      <td>Can I withdraw using my MTN MoMo menu?</td>\n",
       "      <td>FAQs</td>\n",
       "      <td>Advisory</td>\n",
       "      <td>Liquidation of investment assets</td>\n",
       "      <td>Withdraw_MoMo</td>\n",
       "      <td>1. Yes you can!\\n2. Follow the simple steps be...</td>\n",
       "    </tr>\n",
       "    <tr>\n",
       "      <th>6</th>\n",
       "      <td>AD0007</td>\n",
       "      <td>Can I withdraw using my XENO web dashboard?</td>\n",
       "      <td>FAQs</td>\n",
       "      <td>Advisory</td>\n",
       "      <td>Liquidation of investment assets</td>\n",
       "      <td>Withdraw_Web</td>\n",
       "      <td>1. Yes you can!\\n2. Log in to your XENO accoun...</td>\n",
       "    </tr>\n",
       "    <tr>\n",
       "      <th>7</th>\n",
       "      <td>AD0008</td>\n",
       "      <td>Can I withdraw using my XENO App?</td>\n",
       "      <td>FAQs</td>\n",
       "      <td>Advisory</td>\n",
       "      <td>Liquidation of investment assets</td>\n",
       "      <td>Withdraw_App</td>\n",
       "      <td>1. Yes you can!\\n2. Login into the App.\\n3. Se...</td>\n",
       "    </tr>\n",
       "    <tr>\n",
       "      <th>8</th>\n",
       "      <td>AD0009</td>\n",
       "      <td>I deposited my money automatically but it is n...</td>\n",
       "      <td>FAQs</td>\n",
       "      <td>Advisory</td>\n",
       "      <td>Deposit of funds</td>\n",
       "      <td>Deposit</td>\n",
       "      <td>1. Kindly note;\\n2. We take three working days...</td>\n",
       "    </tr>\n",
       "    <tr>\n",
       "      <th>9</th>\n",
       "      <td>AD0010</td>\n",
       "      <td>Can I edit my phone number using my XENO web d...</td>\n",
       "      <td>FAQs</td>\n",
       "      <td>Advisory</td>\n",
       "      <td>Edit phone number</td>\n",
       "      <td>Contact_edit</td>\n",
       "      <td>1. Yes you can! Please follow the below steps ...</td>\n",
       "    </tr>\n",
       "    <tr>\n",
       "      <th>10</th>\n",
       "      <td>AD0011</td>\n",
       "      <td>Can I edit my phone number using my XENO App?</td>\n",
       "      <td>FAQs</td>\n",
       "      <td>Advisory</td>\n",
       "      <td>Edit phone number</td>\n",
       "      <td>Contact_edit</td>\n",
       "      <td>1. Yes you can!  Please follow the below steps...</td>\n",
       "    </tr>\n",
       "  </tbody>\n",
       "</table>\n",
       "</div>"
      ],
      "text/plain": [
       "        id                                           question source  \\\n",
       "0   AD0001                       How to remove withdraw lock    FAQs   \n",
       "1   AD0002  How can I set up my XENO Autosave using my MoM...   FAQs   \n",
       "2   AD0003  How can I set up my XENO Autosave using my web...   FAQs   \n",
       "3   AD0004              How to I begin my investment journey?   FAQs   \n",
       "4   AD0005  How is the interest for xeno calculated and wh...   FAQs   \n",
       "5   AD0006             Can I withdraw using my MTN MoMo menu?   FAQs   \n",
       "6   AD0007        Can I withdraw using my XENO web dashboard?   FAQs   \n",
       "7   AD0008                  Can I withdraw using my XENO App?   FAQs   \n",
       "8   AD0009  I deposited my money automatically but it is n...   FAQs   \n",
       "9   AD0010  Can I edit my phone number using my XENO web d...   FAQs   \n",
       "10  AD0011      Can I edit my phone number using my XENO App?   FAQs   \n",
       "\n",
       "       owner                                           section  \\\n",
       "0   Advisory                Building your financial discipline   \n",
       "1   Advisory                Building your financial discipline   \n",
       "2   Advisory                Building your financial discipline   \n",
       "3   Advisory                  Setting up my investment account   \n",
       "4   Advisory  Understanding the return on your XENO Investment   \n",
       "5   Advisory                  Liquidation of investment assets   \n",
       "6   Advisory                  Liquidation of investment assets   \n",
       "7   Advisory                  Liquidation of investment assets   \n",
       "8   Advisory                                  Deposit of funds   \n",
       "9   Advisory                                 Edit phone number   \n",
       "10  Advisory                                 Edit phone number   \n",
       "\n",
       "                     tag                                            content  \n",
       "0                   Lock  1. Please send us an email at uganda@myxeno.co...  \n",
       "1          Autosave_MoMo  1. Please see how to automate your savings her...  \n",
       "2           Autosave_Web  1. Please login to your account using Login - ...  \n",
       "3   Goal-based investing  1. At XENO, we offer both investment advisory ...  \n",
       "4                Returns  1. We specialize in creating customized portfo...  \n",
       "5          Withdraw_MoMo  1. Yes you can!\\n2. Follow the simple steps be...  \n",
       "6           Withdraw_Web  1. Yes you can!\\n2. Log in to your XENO accoun...  \n",
       "7           Withdraw_App  1. Yes you can!\\n2. Login into the App.\\n3. Se...  \n",
       "8                Deposit  1. Kindly note;\\n2. We take three working days...  \n",
       "9           Contact_edit  1. Yes you can! Please follow the below steps ...  \n",
       "10          Contact_edit  1. Yes you can!  Please follow the below steps...  "
      ]
     },
     "execution_count": 4,
     "metadata": {},
     "output_type": "execute_result"
    }
   ],
   "source": [
    "xeno=pd.DataFrame(XENO_kb)\n",
    "xeno"
   ]
  },
  {
   "cell_type": "code",
   "execution_count": 7,
   "id": "5946acb0",
   "metadata": {},
   "outputs": [
    {
     "name": "stdout",
     "output_type": "stream",
     "text": [
      "section\n",
      "Building your financial discipline                  3\n",
      "Liquidation of investment assets                    3\n",
      "Edit phone number                                   2\n",
      "Setting up my investment account                    1\n",
      "Understanding the return on your XENO Investment    1\n",
      "Deposit of funds                                    1\n",
      "Name: count, dtype: int64\n"
     ]
    }
   ],
   "source": [
    "#Number of questions per category\n",
    "qns_per_section=xeno['section'].value_counts()\n",
    "print(qns_per_section)"
   ]
  },
  {
   "cell_type": "code",
   "execution_count": 23,
   "id": "2e7e9952",
   "metadata": {},
   "outputs": [
    {
     "name": "stderr",
     "output_type": "stream",
     "text": [
      "C:\\Users\\LENOVO\\AppData\\Local\\Temp\\ipykernel_29300\\803880732.py:6: UserWarning: set_ticklabels() should only be used with a fixed number of ticks, i.e. after set_ticks() or using a FixedLocator.\n",
      "  ax.set_xticklabels(xeno.section,rotation=75)\n"
     ]
    },
    {
     "data": {
      "image/png": "[encoded data removed]",
      "text/plain": [
       "<Figure size 1200x1000 with 1 Axes>"
      ]
     },
     "metadata": {},
     "output_type": "display_data"
    }
   ],
   "source": [
    "fig,ax=plt.subplots(figsize=(12,10))\n",
    "ax.hist(xeno['section'], label='Questions per section',color='turquoise', bins=12)\n",
    "ax.set_xlabel('Section')\n",
    "ax.set_ylabel('Number of questions')\n",
    "ax.set_title('Distribution of questions per section')\n",
    "ax.set_xticklabels(xeno.section,rotation=75)\n",
    "plt.show()"
   ]
  },
  {
   "cell_type": "code",
   "execution_count": 25,
   "id": "87704cda",
   "metadata": {},
   "outputs": [
    {
     "data": {
      "text/html": [
       "<div>\n",
       "<style scoped>\n",
       "    .dataframe tbody tr th:only-of-type {\n",
       "        vertical-align: middle;\n",
       "    }\n",
       "\n",
       "    .dataframe tbody tr th {\n",
       "        vertical-align: top;\n",
       "    }\n",
       "\n",
       "    .dataframe thead th {\n",
       "        text-align: right;\n",
       "    }\n",
       "</style>\n",
       "<table border=\"1\" class=\"dataframe\">\n",
       "  <thead>\n",
       "    <tr style=\"text-align: right;\">\n",
       "      <th></th>\n",
       "      <th>id</th>\n",
       "      <th>question</th>\n",
       "      <th>source</th>\n",
       "      <th>owner</th>\n",
       "      <th>section</th>\n",
       "      <th>tag</th>\n",
       "      <th>content</th>\n",
       "      <th>character_length</th>\n",
       "    </tr>\n",
       "  </thead>\n",
       "  <tbody>\n",
       "    <tr>\n",
       "      <th>0</th>\n",
       "      <td>AD0001</td>\n",
       "      <td>How to remove withdraw lock</td>\n",
       "      <td>FAQs</td>\n",
       "      <td>Advisory</td>\n",
       "      <td>Building your financial discipline</td>\n",
       "      <td>Lock</td>\n",
       "      <td>1. Please send us an email at uganda@myxeno.co...</td>\n",
       "      <td>28</td>\n",
       "    </tr>\n",
       "    <tr>\n",
       "      <th>1</th>\n",
       "      <td>AD0002</td>\n",
       "      <td>How can I set up my XENO Autosave using my MoM...</td>\n",
       "      <td>FAQs</td>\n",
       "      <td>Advisory</td>\n",
       "      <td>Building your financial discipline</td>\n",
       "      <td>Autosave_MoMo</td>\n",
       "      <td>1. Please see how to automate your savings her...</td>\n",
       "      <td>53</td>\n",
       "    </tr>\n",
       "    <tr>\n",
       "      <th>2</th>\n",
       "      <td>AD0003</td>\n",
       "      <td>How can I set up my XENO Autosave using my web...</td>\n",
       "      <td>FAQs</td>\n",
       "      <td>Advisory</td>\n",
       "      <td>Building your financial discipline</td>\n",
       "      <td>Autosave_Web</td>\n",
       "      <td>1. Please login to your account using Login - ...</td>\n",
       "      <td>57</td>\n",
       "    </tr>\n",
       "    <tr>\n",
       "      <th>3</th>\n",
       "      <td>AD0004</td>\n",
       "      <td>How to I begin my investment journey?</td>\n",
       "      <td>FAQs</td>\n",
       "      <td>Advisory</td>\n",
       "      <td>Setting up my investment account</td>\n",
       "      <td>Goal-based investing</td>\n",
       "      <td>1. At XENO, we offer both investment advisory ...</td>\n",
       "      <td>37</td>\n",
       "    </tr>\n",
       "    <tr>\n",
       "      <th>4</th>\n",
       "      <td>AD0005</td>\n",
       "      <td>How is the interest for xeno calculated and wh...</td>\n",
       "      <td>FAQs</td>\n",
       "      <td>Advisory</td>\n",
       "      <td>Understanding the return on your XENO Investment</td>\n",
       "      <td>Returns</td>\n",
       "      <td>1. We specialize in creating customized portfo...</td>\n",
       "      <td>81</td>\n",
       "    </tr>\n",
       "  </tbody>\n",
       "</table>\n",
       "</div>"
      ],
      "text/plain": [
       "       id                                           question source     owner  \\\n",
       "0  AD0001                       How to remove withdraw lock    FAQs  Advisory   \n",
       "1  AD0002  How can I set up my XENO Autosave using my MoM...   FAQs  Advisory   \n",
       "2  AD0003  How can I set up my XENO Autosave using my web...   FAQs  Advisory   \n",
       "3  AD0004              How to I begin my investment journey?   FAQs  Advisory   \n",
       "4  AD0005  How is the interest for xeno calculated and wh...   FAQs  Advisory   \n",
       "\n",
       "                                            section                   tag  \\\n",
       "0                Building your financial discipline                  Lock   \n",
       "1                Building your financial discipline         Autosave_MoMo   \n",
       "2                Building your financial discipline          Autosave_Web   \n",
       "3                  Setting up my investment account  Goal-based investing   \n",
       "4  Understanding the return on your XENO Investment               Returns   \n",
       "\n",
       "                                             content  character_length  \n",
       "0  1. Please send us an email at uganda@myxeno.co...                28  \n",
       "1  1. Please see how to automate your savings her...                53  \n",
       "2  1. Please login to your account using Login - ...                57  \n",
       "3  1. At XENO, we offer both investment advisory ...                37  \n",
       "4  1. We specialize in creating customized portfo...                81  "
      ]
     },
     "execution_count": 25,
     "metadata": {},
     "output_type": "execute_result"
    }
   ],
   "source": [
    "#Question length in characters\n",
    "xeno['character_length']=xeno['question'].str.len()\n",
    "xeno.head()"
   ]
  },
  {
   "cell_type": "code",
   "execution_count": 28,
   "id": "e91a252e",
   "metadata": {},
   "outputs": [
    {
     "data": {
      "text/html": [
       "<div>\n",
       "<style scoped>\n",
       "    .dataframe tbody tr th:only-of-type {\n",
       "        vertical-align: middle;\n",
       "    }\n",
       "\n",
       "    .dataframe tbody tr th {\n",
       "        vertical-align: top;\n",
       "    }\n",
       "\n",
       "    .dataframe thead th {\n",
       "        text-align: right;\n",
       "    }\n",
       "</style>\n",
       "<table border=\"1\" class=\"dataframe\">\n",
       "  <thead>\n",
       "    <tr style=\"text-align: right;\">\n",
       "      <th></th>\n",
       "      <th>id</th>\n",
       "      <th>question</th>\n",
       "      <th>source</th>\n",
       "      <th>owner</th>\n",
       "      <th>section</th>\n",
       "      <th>tag</th>\n",
       "      <th>content</th>\n",
       "      <th>character_length</th>\n",
       "      <th>word_count</th>\n",
       "    </tr>\n",
       "  </thead>\n",
       "  <tbody>\n",
       "    <tr>\n",
       "      <th>0</th>\n",
       "      <td>AD0001</td>\n",
       "      <td>How to remove withdraw lock</td>\n",
       "      <td>FAQs</td>\n",
       "      <td>Advisory</td>\n",
       "      <td>Building your financial discipline</td>\n",
       "      <td>Lock</td>\n",
       "      <td>1. Please send us an email at uganda@myxeno.co...</td>\n",
       "      <td>28</td>\n",
       "      <td>5</td>\n",
       "    </tr>\n",
       "    <tr>\n",
       "      <th>1</th>\n",
       "      <td>AD0002</td>\n",
       "      <td>How can I set up my XENO Autosave using my MoM...</td>\n",
       "      <td>FAQs</td>\n",
       "      <td>Advisory</td>\n",
       "      <td>Building your financial discipline</td>\n",
       "      <td>Autosave_MoMo</td>\n",
       "      <td>1. Please see how to automate your savings her...</td>\n",
       "      <td>53</td>\n",
       "      <td>12</td>\n",
       "    </tr>\n",
       "    <tr>\n",
       "      <th>2</th>\n",
       "      <td>AD0003</td>\n",
       "      <td>How can I set up my XENO Autosave using my web...</td>\n",
       "      <td>FAQs</td>\n",
       "      <td>Advisory</td>\n",
       "      <td>Building your financial discipline</td>\n",
       "      <td>Autosave_Web</td>\n",
       "      <td>1. Please login to your account using Login - ...</td>\n",
       "      <td>57</td>\n",
       "      <td>12</td>\n",
       "    </tr>\n",
       "    <tr>\n",
       "      <th>3</th>\n",
       "      <td>AD0004</td>\n",
       "      <td>How to I begin my investment journey?</td>\n",
       "      <td>FAQs</td>\n",
       "      <td>Advisory</td>\n",
       "      <td>Setting up my investment account</td>\n",
       "      <td>Goal-based investing</td>\n",
       "      <td>1. At XENO, we offer both investment advisory ...</td>\n",
       "      <td>37</td>\n",
       "      <td>7</td>\n",
       "    </tr>\n",
       "    <tr>\n",
       "      <th>4</th>\n",
       "      <td>AD0005</td>\n",
       "      <td>How is the interest for xeno calculated and wh...</td>\n",
       "      <td>FAQs</td>\n",
       "      <td>Advisory</td>\n",
       "      <td>Understanding the return on your XENO Investment</td>\n",
       "      <td>Returns</td>\n",
       "      <td>1. We specialize in creating customized portfo...</td>\n",
       "      <td>81</td>\n",
       "      <td>14</td>\n",
       "    </tr>\n",
       "  </tbody>\n",
       "</table>\n",
       "</div>"
      ],
      "text/plain": [
       "       id                                           question source     owner  \\\n",
       "0  AD0001                       How to remove withdraw lock    FAQs  Advisory   \n",
       "1  AD0002  How can I set up my XENO Autosave using my MoM...   FAQs  Advisory   \n",
       "2  AD0003  How can I set up my XENO Autosave using my web...   FAQs  Advisory   \n",
       "3  AD0004              How to I begin my investment journey?   FAQs  Advisory   \n",
       "4  AD0005  How is the interest for xeno calculated and wh...   FAQs  Advisory   \n",
       "\n",
       "                                            section                   tag  \\\n",
       "0                Building your financial discipline                  Lock   \n",
       "1                Building your financial discipline         Autosave_MoMo   \n",
       "2                Building your financial discipline          Autosave_Web   \n",
       "3                  Setting up my investment account  Goal-based investing   \n",
       "4  Understanding the return on your XENO Investment               Returns   \n",
       "\n",
       "                                             content  character_length  \\\n",
       "0  1. Please send us an email at uganda@myxeno.co...                28   \n",
       "1  1. Please see how to automate your savings her...                53   \n",
       "2  1. Please login to your account using Login - ...                57   \n",
       "3  1. At XENO, we offer both investment advisory ...                37   \n",
       "4  1. We specialize in creating customized portfo...                81   \n",
       "\n",
       "   word_count  \n",
       "0           5  \n",
       "1          12  \n",
       "2          12  \n",
       "3           7  \n",
       "4          14  "
      ]
     },
     "execution_count": 28,
     "metadata": {},
     "output_type": "execute_result"
    }
   ],
   "source": [
    "#Question length in words\n",
    "xeno['word_count']=xeno['question'].str.split().str.len()\n",
    "xeno.head()"
   ]
  },
  {
   "cell_type": "code",
   "execution_count": 30,
   "id": "eb937dee",
   "metadata": {},
   "outputs": [],
   "source": [
    "#tokenizing the questions\n",
    "from nltk.tokenize import word_tokenize\n",
    "from nltk.tokenize import sent_tokenize"
   ]
  },
  {
   "cell_type": "code",
   "execution_count": null,
   "id": "531ff653",
   "metadata": {},
   "outputs": [],
   "source": [
    "\n",
    "xeno['tokenized_qns'] = xeno['question'].apply(word_tokenize)"
   ]
  },
  {
   "cell_type": "code",
   "execution_count": 52,
   "id": "7c8d65d6",
   "metadata": {},
   "outputs": [],
   "source": [
    "from nltk.tokenize import regexp_tokenize\n",
    "from nltk.tokenize import word_tokenize\n",
    "from nltk.tokenize import sent_tokenize\n",
    "from nltk.stem import WordNetLemmatizer\n",
    "import re"
   ]
  },
  {
   "cell_type": "code",
   "execution_count": 39,
   "id": "2a33ea1c",
   "metadata": {},
   "outputs": [
    {
     "data": {
      "text/plain": [
       "['How', 'can', 'deactivate', 'my', 'very', 'new', 'XENO', 'account']"
      ]
     },
     "execution_count": 39,
     "metadata": {},
     "output_type": "execute_result"
    }
   ],
   "source": [
    "my_string=\"How can I deactivate my very new XENO account?\"\n",
    "pattern=r\"([A-Za-z]\\w+)\"\n",
    "trial=regexp_tokenize(my_string,pattern)\n",
    "trial\n"
   ]
  },
  {
   "cell_type": "code",
   "execution_count": 42,
   "id": "decfea33",
   "metadata": {},
   "outputs": [
    {
     "data": {
      "text/plain": [
       "['Another',\n",
       " 'youthful',\n",
       " 'work',\n",
       " 'the',\n",
       " 'Protrepticus',\n",
       " 'Exhortation',\n",
       " 'has',\n",
       " 'been',\n",
       " 'reconstructed',\n",
       " 'by',\n",
       " 'modern',\n",
       " 'scholars',\n",
       " 'from',\n",
       " 'quotations',\n",
       " 'in',\n",
       " 'various',\n",
       " 'works',\n",
       " 'from',\n",
       " 'late',\n",
       " 'antiquity',\n",
       " 'Everyone',\n",
       " 'must',\n",
       " 'do',\n",
       " 'philosophy',\n",
       " 'Aristotle',\n",
       " 'claims',\n",
       " 'because',\n",
       " 'even',\n",
       " 'arguing',\n",
       " 'against',\n",
       " 'the',\n",
       " 'practice',\n",
       " 'of',\n",
       " 'philosophy',\n",
       " 'is',\n",
       " 'itself',\n",
       " 'form',\n",
       " 'of',\n",
       " 'philosophizing',\n",
       " 'The',\n",
       " 'best',\n",
       " 'form',\n",
       " 'of',\n",
       " 'philosophy',\n",
       " 'is',\n",
       " 'the',\n",
       " 'contemplation',\n",
       " 'of',\n",
       " 'the',\n",
       " 'universe',\n",
       " 'of',\n",
       " 'nature',\n",
       " 'it',\n",
       " 'is',\n",
       " 'for',\n",
       " 'this',\n",
       " 'purpose',\n",
       " 'that',\n",
       " 'God',\n",
       " 'made',\n",
       " 'human',\n",
       " 'beings',\n",
       " 'and',\n",
       " 'gave',\n",
       " 'them',\n",
       " 'godlike',\n",
       " 'intellect',\n",
       " 'All',\n",
       " 'else',\n",
       " 'strength',\n",
       " 'beauty',\n",
       " 'power',\n",
       " 'and',\n",
       " 'honour',\n",
       " 'is',\n",
       " 'worthless']"
      ]
     },
     "execution_count": 42,
     "metadata": {},
     "output_type": "execute_result"
    }
   ],
   "source": [
    "lines=\"Another youthful work, the Protrepticus (“Exhortation”), has been reconstructed by modern scholars from quotations in various works from late antiquity. Everyone must do philosophy, Aristotle claims, because even arguing against the practice of philosophy is itself a form of philosophizing. The best form of philosophy is the contemplation of the universe of nature; it is for this purpose that God made human beings and gave them a godlike intellect. All else—strength, beauty, power, and honour—is worthless.\"\n",
    "pattern=r\"([A-Za-z]\\w+)\"\n",
    "trial2=regexp_tokenize(lines,pattern)\n",
    "trial2"
   ]
  },
  {
   "cell_type": "code",
   "execution_count": 49,
   "id": "34a3806f",
   "metadata": {},
   "outputs": [
    {
     "data": {
      "text/plain": [
       "0                     [How, to, remove, withdraw, lock]\n",
       "1     [How, can, I, set, up, my, XENO, Autosave, usi...\n",
       "2     [How, can, I, set, up, my, XENO, Autosave, usi...\n",
       "3          [How, to, I, begin, my, investment, journey]\n",
       "4     [How, is, the, interest, for, xeno, calculated...\n",
       "5        [Can, I, withdraw, using, my, MTN, MoMo, menu]\n",
       "6     [Can, I, withdraw, using, my, XENO, web, dashb...\n",
       "7              [Can, I, withdraw, using, my, XENO, App]\n",
       "8     [I, deposited, my, money, automatically, but, ...\n",
       "9     [Can, I, edit, my, phone, number, using, my, X...\n",
       "10    [Can, I, edit, my, phone, number, using, my, X...\n",
       "Name: question_tokens, dtype: object"
      ]
     },
     "execution_count": 49,
     "metadata": {},
     "output_type": "execute_result"
    }
   ],
   "source": [
    "pattern=r\"([A-Za-z]+)\"\n",
    "xeno['question_tokens'] = xeno['question'].apply(lambda q: regexp_tokenize(q, pattern))\n",
    "xeno['question_tokens']\n"
   ]
  },
  {
   "cell_type": "code",
   "execution_count": null,
   "id": "1dba6c4b",
   "metadata": {},
   "outputs": [
    {
     "data": {
      "text/plain": [
       "0     [Please, send, us, an, email, at, uganda, myxe...\n",
       "1     [Please, see, how, to, automate, your, savings...\n",
       "2     [Please, login, to, your, account, using, Logi...\n",
       "3     [At, XENO, we, offer, both, investment, adviso...\n",
       "4     [We, specialize, in, creating, customized, por...\n",
       "5     [Yes, you, can, Follow, the, simple, steps, be...\n",
       "6     [Yes, you, can, Log, in, to, your, XENO, accou...\n",
       "7     [Yes, you, can, Login, into, the, App, Select,...\n",
       "8     [Kindly, note, We, take, three, working, days,...\n",
       "9     [Yes, you, can, Please, follow, the, below, st...\n",
       "10    [Yes, you, can, Please, follow, the, below, st...\n",
       "Name: content_tokens, dtype: object"
      ]
     },
     "execution_count": 50,
     "metadata": {},
     "output_type": "execute_result"
    }
   ],
   "source": [
    "pattern2= r\"[A-Za-z]+(?:['-][A-Za-z]+)*|[\\w\\.-]+@[\\w\\.-]+\\.\\w+\"\n",
    "xeno['content_tokens'] = xeno['content'].apply(lambda c: regexp_tokenize(c, pattern))\n",
    "xeno['content_tokens']"
   ]
  },
  {
   "cell_type": "code",
   "execution_count": 51,
   "id": "0cdc0146",
   "metadata": {},
   "outputs": [
    {
     "data": {
      "text/plain": [
       "['Please',\n",
       " 'login',\n",
       " 'to',\n",
       " 'your',\n",
       " 'account',\n",
       " 'using',\n",
       " 'Login',\n",
       " 'XENO',\n",
       " 'myxeno',\n",
       " 'com',\n",
       " 'Navigate',\n",
       " 'to',\n",
       " 'the',\n",
       " 'top',\n",
       " 'right',\n",
       " 'corner',\n",
       " 'of',\n",
       " 'your',\n",
       " 'home',\n",
       " 'page',\n",
       " 'Select',\n",
       " 'Setup',\n",
       " 'AutoSave']"
      ]
     },
     "execution_count": 51,
     "metadata": {},
     "output_type": "execute_result"
    }
   ],
   "source": [
    "xeno['content_tokens'][2]"
   ]
  },
  {
   "cell_type": "code",
   "execution_count": 55,
   "id": "db49b47e",
   "metadata": {},
   "outputs": [
    {
     "name": "stderr",
     "output_type": "stream",
     "text": [
      "[nltk_data] Downloading package stopwords to\n",
      "[nltk_data]     C:\\Users\\LENOVO\\AppData\\Roaming\\nltk_data...\n",
      "[nltk_data]   Unzipping corpora\\stopwords.zip.\n"
     ]
    },
    {
     "data": {
      "text/plain": [
       "True"
      ]
     },
     "execution_count": 55,
     "metadata": {},
     "output_type": "execute_result"
    }
   ],
   "source": [
    "from nltk.corpus import stopwords\n",
    "\n",
    "# Make sure you have the stop words downloaded (only needs to be done once)\n",
    "import nltk\n",
    "nltk.download('stopwords')"
   ]
  },
  {
   "cell_type": "code",
   "execution_count": 57,
   "id": "56b63c65",
   "metadata": {},
   "outputs": [
    {
     "data": {
      "text/plain": [
       "0                              [remove, withdraw, lock]\n",
       "1              [set, XENO, Autosave, using, MoMo, menu]\n",
       "2          [set, XENO, Autosave, using, web, dashboard]\n",
       "3                          [begin, investment, journey]\n",
       "4     [interest, xeno, calculated, duration, Increment]\n",
       "5                    [withdraw, using, MTN, MoMo, menu]\n",
       "6               [withdraw, using, XENO, web, dashboard]\n",
       "7                          [withdraw, using, XENO, App]\n",
       "8     [deposited, money, automatically, reflecting, ...\n",
       "9     [edit, phone, number, using, XENO, web, dashbo...\n",
       "10              [edit, phone, number, using, XENO, App]\n",
       "Name: no_stops, dtype: object"
      ]
     },
     "execution_count": 57,
     "metadata": {},
     "output_type": "execute_result"
    }
   ],
   "source": [
    "stop_words = set(stopwords.words('english'))\n",
    "\n",
    "# Remove stop words from tokenized questions\n",
    "xeno['no_stops'] = xeno['question_tokens'].apply(lambda q: [word for word in q if word.lower() not in stop_words])\n",
    "xeno['no_stops']"
   ]
  },
  {
   "cell_type": "code",
   "execution_count": null,
   "id": "b5e2a7d6",
   "metadata": {},
   "outputs": [
    {
     "data": {
      "text/plain": [
       "[[(0, 1), (1, 1), (2, 1)],\n",
       " [(3, 1), (4, 1), (5, 1), (6, 1), (7, 1), (8, 1)],\n",
       " [(3, 1), (5, 1), (7, 1), (8, 1), (9, 1), (10, 1)],\n",
       " [(11, 1), (12, 1), (13, 1)],\n",
       " [(14, 1), (15, 1), (16, 1), (17, 1), (18, 1)],\n",
       " [(2, 1), (4, 1), (6, 1), (8, 1), (19, 1)],\n",
       " [(2, 1), (5, 1), (8, 1), (9, 1), (10, 1)],\n",
       " [(2, 1), (5, 1), (8, 1), (20, 1)],\n",
       " [(21, 1), (22, 1), (23, 1), (24, 1), (25, 1)],\n",
       " [(5, 1), (8, 1), (9, 1), (10, 1), (26, 1), (27, 1), (28, 1)],\n",
       " [(5, 1), (8, 1), (20, 1), (26, 1), (27, 1), (28, 1)]]"
      ]
     },
     "execution_count": 62,
     "metadata": {},
     "output_type": "execute_result"
    }
   ],
   "source": [
    "from gensim.corpora import Dictionary\n",
    "dictionary = Dictionary(xeno['no_stops'])  #create a gensim dictionary\n",
    "cleaned_qns = [dictionary.doc2bow(qn) for qn in xeno['no_stops']] #this creates a bag of words\n",
    "cleaned_qns                         #that returns a list of list of tuples where each tuple is\n",
    "                                    # a word_id assigned by the dictionary and the latter the number\n",
    "                                    #of times it appears in the question/document\n"
   ]
  },
  {
   "cell_type": "code",
   "execution_count": 63,
   "id": "de721ae8",
   "metadata": {},
   "outputs": [],
   "source": [
    "from gensim.models import TfidfModel  #converts the bag of words into weighted TF-IDF vectors\n",
    "tfidf_model = TfidfModel(cleaned_qns) #creates and trains a model using the bag of words. it learns TF and IDF of each word\n",
    "tfidf_corpus = tfidf_model[cleaned_qns] #applies the trained model on your bag of words to get the TF-IDF vectors\n",
    " "
   ]
  },
  {
   "cell_type": "code",
   "execution_count": 64,
   "id": "6996212c",
   "metadata": {},
   "outputs": [
    {
     "data": {
      "text/plain": [
       "<gensim.interfaces.TransformedCorpus at 0x1401a63c8d0>"
      ]
     },
     "execution_count": 64,
     "metadata": {},
     "output_type": "execute_result"
    }
   ],
   "source": [
    "tfidf_corpus"
   ]
  },
  {
   "cell_type": "code",
   "execution_count": 68,
   "id": "72a60378",
   "metadata": {},
   "outputs": [],
   "source": [
    "import numpy as np\n",
    "import gensim"
   ]
  },
  {
   "cell_type": "code",
   "execution_count": 69,
   "id": "2759f86d",
   "metadata": {},
   "outputs": [],
   "source": [
    "dense_corpus = [gensim.matutils.corpus2dense([doc], num_terms=len(dictionary)).T[0] for doc in tfidf_corpus]"
   ]
  },
  {
   "cell_type": "code",
   "execution_count": 61,
   "id": "c1df4ae2",
   "metadata": {},
   "outputs": [
    {
     "data": {
      "text/html": [
       "<div>\n",
       "<style scoped>\n",
       "    .dataframe tbody tr th:only-of-type {\n",
       "        vertical-align: middle;\n",
       "    }\n",
       "\n",
       "    .dataframe tbody tr th {\n",
       "        vertical-align: top;\n",
       "    }\n",
       "\n",
       "    .dataframe thead th {\n",
       "        text-align: right;\n",
       "    }\n",
       "</style>\n",
       "<table border=\"1\" class=\"dataframe\">\n",
       "  <thead>\n",
       "    <tr style=\"text-align: right;\">\n",
       "      <th></th>\n",
       "      <th>id</th>\n",
       "      <th>question</th>\n",
       "      <th>source</th>\n",
       "      <th>owner</th>\n",
       "      <th>section</th>\n",
       "      <th>tag</th>\n",
       "      <th>content</th>\n",
       "      <th>character_length</th>\n",
       "      <th>word_count</th>\n",
       "      <th>regex_tokens</th>\n",
       "      <th>question_tokens</th>\n",
       "      <th>content_tokens</th>\n",
       "      <th>no_stops</th>\n",
       "    </tr>\n",
       "  </thead>\n",
       "  <tbody>\n",
       "    <tr>\n",
       "      <th>0</th>\n",
       "      <td>AD0001</td>\n",
       "      <td>How to remove withdraw lock</td>\n",
       "      <td>FAQs</td>\n",
       "      <td>Advisory</td>\n",
       "      <td>Building your financial discipline</td>\n",
       "      <td>Lock</td>\n",
       "      <td>1. Please send us an email at uganda@myxeno.co...</td>\n",
       "      <td>28</td>\n",
       "      <td>5</td>\n",
       "      <td>[How, to, remove, withdraw, lock]</td>\n",
       "      <td>[How, to, remove, withdraw, lock]</td>\n",
       "      <td>[Please, send, us, an, email, at, uganda, myxe...</td>\n",
       "      <td>[remove, withdraw, lock]</td>\n",
       "    </tr>\n",
       "    <tr>\n",
       "      <th>1</th>\n",
       "      <td>AD0002</td>\n",
       "      <td>How can I set up my XENO Autosave using my MoM...</td>\n",
       "      <td>FAQs</td>\n",
       "      <td>Advisory</td>\n",
       "      <td>Building your financial discipline</td>\n",
       "      <td>Autosave_MoMo</td>\n",
       "      <td>1. Please see how to automate your savings her...</td>\n",
       "      <td>53</td>\n",
       "      <td>12</td>\n",
       "      <td>[How, can, I, set, up, my, XENO, Autosave, usi...</td>\n",
       "      <td>[How, can, I, set, up, my, XENO, Autosave, usi...</td>\n",
       "      <td>[Please, see, how, to, automate, your, savings...</td>\n",
       "      <td>[set, XENO, Autosave, using, MoMo, menu]</td>\n",
       "    </tr>\n",
       "    <tr>\n",
       "      <th>2</th>\n",
       "      <td>AD0003</td>\n",
       "      <td>How can I set up my XENO Autosave using my web...</td>\n",
       "      <td>FAQs</td>\n",
       "      <td>Advisory</td>\n",
       "      <td>Building your financial discipline</td>\n",
       "      <td>Autosave_Web</td>\n",
       "      <td>1. Please login to your account using Login - ...</td>\n",
       "      <td>57</td>\n",
       "      <td>12</td>\n",
       "      <td>[How, can, I, set, up, my, XENO, Autosave, usi...</td>\n",
       "      <td>[How, can, I, set, up, my, XENO, Autosave, usi...</td>\n",
       "      <td>[Please, login, to, your, account, using, Logi...</td>\n",
       "      <td>[set, XENO, Autosave, using, web, dashboard]</td>\n",
       "    </tr>\n",
       "    <tr>\n",
       "      <th>3</th>\n",
       "      <td>AD0004</td>\n",
       "      <td>How to I begin my investment journey?</td>\n",
       "      <td>FAQs</td>\n",
       "      <td>Advisory</td>\n",
       "      <td>Setting up my investment account</td>\n",
       "      <td>Goal-based investing</td>\n",
       "      <td>1. At XENO, we offer both investment advisory ...</td>\n",
       "      <td>37</td>\n",
       "      <td>7</td>\n",
       "      <td>[How, to, I, begin, my, investment, journey]</td>\n",
       "      <td>[How, to, I, begin, my, investment, journey]</td>\n",
       "      <td>[At, XENO, we, offer, both, investment, adviso...</td>\n",
       "      <td>[begin, investment, journey]</td>\n",
       "    </tr>\n",
       "    <tr>\n",
       "      <th>4</th>\n",
       "      <td>AD0005</td>\n",
       "      <td>How is the interest for xeno calculated and wh...</td>\n",
       "      <td>FAQs</td>\n",
       "      <td>Advisory</td>\n",
       "      <td>Understanding the return on your XENO Investment</td>\n",
       "      <td>Returns</td>\n",
       "      <td>1. We specialize in creating customized portfo...</td>\n",
       "      <td>81</td>\n",
       "      <td>14</td>\n",
       "      <td>[How, is, the, interest, for, xeno, calculated...</td>\n",
       "      <td>[How, is, the, interest, for, xeno, calculated...</td>\n",
       "      <td>[We, specialize, in, creating, customized, por...</td>\n",
       "      <td>[interest, xeno, calculated, duration, Increment]</td>\n",
       "    </tr>\n",
       "  </tbody>\n",
       "</table>\n",
       "</div>"
      ],
      "text/plain": [
       "       id                                           question source     owner  \\\n",
       "0  AD0001                       How to remove withdraw lock    FAQs  Advisory   \n",
       "1  AD0002  How can I set up my XENO Autosave using my MoM...   FAQs  Advisory   \n",
       "2  AD0003  How can I set up my XENO Autosave using my web...   FAQs  Advisory   \n",
       "3  AD0004              How to I begin my investment journey?   FAQs  Advisory   \n",
       "4  AD0005  How is the interest for xeno calculated and wh...   FAQs  Advisory   \n",
       "\n",
       "                                            section                   tag  \\\n",
       "0                Building your financial discipline                  Lock   \n",
       "1                Building your financial discipline         Autosave_MoMo   \n",
       "2                Building your financial discipline          Autosave_Web   \n",
       "3                  Setting up my investment account  Goal-based investing   \n",
       "4  Understanding the return on your XENO Investment               Returns   \n",
       "\n",
       "                                             content  character_length  \\\n",
       "0  1. Please send us an email at uganda@myxeno.co...                28   \n",
       "1  1. Please see how to automate your savings her...                53   \n",
       "2  1. Please login to your account using Login - ...                57   \n",
       "3  1. At XENO, we offer both investment advisory ...                37   \n",
       "4  1. We specialize in creating customized portfo...                81   \n",
       "\n",
       "   word_count                                       regex_tokens  \\\n",
       "0           5                  [How, to, remove, withdraw, lock]   \n",
       "1          12  [How, can, I, set, up, my, XENO, Autosave, usi...   \n",
       "2          12  [How, can, I, set, up, my, XENO, Autosave, usi...   \n",
       "3           7       [How, to, I, begin, my, investment, journey]   \n",
       "4          14  [How, is, the, interest, for, xeno, calculated...   \n",
       "\n",
       "                                     question_tokens  \\\n",
       "0                  [How, to, remove, withdraw, lock]   \n",
       "1  [How, can, I, set, up, my, XENO, Autosave, usi...   \n",
       "2  [How, can, I, set, up, my, XENO, Autosave, usi...   \n",
       "3       [How, to, I, begin, my, investment, journey]   \n",
       "4  [How, is, the, interest, for, xeno, calculated...   \n",
       "\n",
       "                                      content_tokens  \\\n",
       "0  [Please, send, us, an, email, at, uganda, myxe...   \n",
       "1  [Please, see, how, to, automate, your, savings...   \n",
       "2  [Please, login, to, your, account, using, Logi...   \n",
       "3  [At, XENO, we, offer, both, investment, adviso...   \n",
       "4  [We, specialize, in, creating, customized, por...   \n",
       "\n",
       "                                            no_stops  \n",
       "0                           [remove, withdraw, lock]  \n",
       "1           [set, XENO, Autosave, using, MoMo, menu]  \n",
       "2       [set, XENO, Autosave, using, web, dashboard]  \n",
       "3                       [begin, investment, journey]  \n",
       "4  [interest, xeno, calculated, duration, Increment]  "
      ]
     },
     "execution_count": 61,
     "metadata": {},
     "output_type": "execute_result"
    }
   ],
   "source": [
    "xeno.head()"
   ]
  },
  {
   "cell_type": "code",
   "execution_count": null,
   "id": "93355506",
   "metadata": {},
   "outputs": [
    {
     "data": {
      "text/plain": [
       "<function __main__.<lambda>(q)>"
      ]
     },
     "execution_count": 45,
     "metadata": {},
     "output_type": "execute_result"
    }
   ],
   "source": [
    "lambda q : print(f\"{q} is a girl\") #q is the argument your passing and the other part is\n",
    "#the function that is being called"
   ]
  }
 ],
 "metadata": {
  "kernelspec": {
   "display_name": "base",
   "language": "python",
   "name": "python3"
  },
  "language_info": {
   "codemirror_mode": {
    "name": "ipython",
    "version": 3
   },
   "file_extension": ".py",
   "mimetype": "text/x-python",
   "name": "python",
   "nbconvert_exporter": "python",
   "pygments_lexer": "ipython3",
   "version": "3.11.7"
  }
 },
 "nbformat": 4,
 "nbformat_minor": 5
}
